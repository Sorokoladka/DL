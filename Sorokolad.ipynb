{
 "cells": [
  {
   "cell_type": "code",
   "execution_count": 82,
   "metadata": {
    "id": "3MeKai5Xj6eX"
   },
   "outputs": [],
   "source": [
    "import numpy as np\n",
    "import warnings\n",
    "warnings.filterwarnings('ignore')"
   ]
  },
  {
   "cell_type": "markdown",
   "metadata": {
    "id": "wwlFrG-Tj6eY"
   },
   "source": [
    "**Module** is an abstract class which defines fundamental methods necessary for a training a neural network. You do not need to change anything here, just read the comments."
   ]
  },
  {
   "cell_type": "code",
   "execution_count": 84,
   "metadata": {
    "id": "W8BLmtZ3j6eZ"
   },
   "outputs": [],
   "source": [
    "class Module(object):\n",
    "    \"\"\"\n",
    "    Basically, you can think of a module as of a something (black box)\n",
    "    which can process `input` data and produce `ouput` data.\n",
    "    This is like applying a function which is called `forward`:\n",
    "\n",
    "        output = module.forward(input)\n",
    "\n",
    "    The module should be able to perform a backward pass: to differentiate the `forward` function.\n",
    "    More, it should be able to differentiate it if is a part of chain (chain rule).\n",
    "    The latter implies there is a gradient from previous step of a chain rule.\n",
    "\n",
    "        gradInput = module.backward(input, gradOutput)\n",
    "    \"\"\"\n",
    "    def __init__ (self):\n",
    "        self.output = None\n",
    "        self.gradInput = None\n",
    "        self.training = True\n",
    "\n",
    "    def forward(self, input):\n",
    "        \"\"\"\n",
    "        Takes an input object, and computes the corresponding output of the module.\n",
    "        \"\"\"\n",
    "        return self.updateOutput(input)\n",
    "\n",
    "    def backward(self,input, gradOutput):\n",
    "        \"\"\"\n",
    "        Performs a backpropagation step through the module, with respect to the given input.\n",
    "\n",
    "        This includes\n",
    "         - computing a gradient w.r.t. `input` (is needed for further backprop),\n",
    "         - computing a gradient w.r.t. parameters (to update parameters while optimizing).\n",
    "        \"\"\"\n",
    "        self.updateGradInput(input, gradOutput)\n",
    "        self.accGradParameters(input, gradOutput)\n",
    "        return self.gradInput\n",
    "\n",
    "\n",
    "    def updateOutput(self, input):\n",
    "        \"\"\"\n",
    "        Computes the output using the current parameter set of the class and input.\n",
    "        This function returns the result which is stored in the `output` field.\n",
    "\n",
    "        Make sure to both store the data in `output` field and return it.\n",
    "        \"\"\"\n",
    "\n",
    "        # The easiest case:\n",
    "\n",
    "        # self.output = input\n",
    "        # return self.output\n",
    "\n",
    "        pass\n",
    "\n",
    "    def updateGradInput(self, input, gradOutput):\n",
    "        \"\"\"\n",
    "        Computing the gradient of the module with respect to its own input.\n",
    "        This is returned in `gradInput`. Also, the `gradInput` state variable is updated accordingly.\n",
    "\n",
    "        The shape of `gradInput` is always the same as the shape of `input`.\n",
    "\n",
    "        Make sure to both store the gradients in `gradInput` field and return it.\n",
    "        \"\"\"\n",
    "\n",
    "        # The easiest case:\n",
    "\n",
    "        # self.gradInput = gradOutput\n",
    "        # return self.gradInput\n",
    "\n",
    "        pass\n",
    "\n",
    "    def accGradParameters(self, input, gradOutput):\n",
    "        \"\"\"\n",
    "        Computing the gradient of the module with respect to its own parameters.\n",
    "        No need to override if module has no parameters (e.g. ReLU).\n",
    "        \"\"\"\n",
    "        pass\n",
    "\n",
    "    def zeroGradParameters(self):\n",
    "        \"\"\"\n",
    "        Zeroes `gradParams` variable if the module has params.\n",
    "        \"\"\"\n",
    "        pass\n",
    "\n",
    "    def getParameters(self):\n",
    "        \"\"\"\n",
    "        Returns a list with its parameters.\n",
    "        If the module does not have parameters return empty list.\n",
    "        \"\"\"\n",
    "        return []\n",
    "\n",
    "    def getGradParameters(self):\n",
    "        \"\"\"\n",
    "        Returns a list with gradients with respect to its parameters.\n",
    "        If the module does not have parameters return empty list.\n",
    "        \"\"\"\n",
    "        return []\n",
    "\n",
    "    def train(self):\n",
    "        \"\"\"\n",
    "        Sets training mode for the module.\n",
    "        Training and testing behaviour differs for Dropout, BatchNorm.\n",
    "        \"\"\"\n",
    "        self.training = True\n",
    "\n",
    "    def evaluate(self):\n",
    "        \"\"\"\n",
    "        Sets evaluation mode for the module.\n",
    "        Training and testing behaviour differs for Dropout, BatchNorm.\n",
    "        \"\"\"\n",
    "        self.training = False\n",
    "\n",
    "    def __repr__(self):\n",
    "        \"\"\"\n",
    "        Pretty printing. Should be overrided in every module if you want\n",
    "        to have readable description.\n",
    "        \"\"\"\n",
    "        return \"Module\""
   ]
  },
  {
   "cell_type": "markdown",
   "metadata": {
    "id": "mKRkIjT8j6eZ"
   },
   "source": [
    "# Sequential container"
   ]
  },
  {
   "cell_type": "markdown",
   "metadata": {
    "id": "Cb98PPpJj6ea"
   },
   "source": [
    "**Define** a forward and backward pass procedures."
   ]
  },
  {
   "cell_type": "code",
   "execution_count": 88,
   "metadata": {},
   "outputs": [],
   "source": [
    "class Sequential(Module):\n",
    "    \"\"\"\n",
    "         This class implements a container, which processes `input` data sequentially.\n",
    "\n",
    "         `input` is processed by each module (layer) in self.modules consecutively.\n",
    "         The resulting array is called `output`.\n",
    "    \"\"\"\n",
    "\n",
    "    def __init__ (self):\n",
    "        super(Sequential, self).__init__()\n",
    "        self.modules = []\n",
    "\n",
    "    def add(self, module):\n",
    "        \"\"\"\n",
    "        Adds a module to the container.\n",
    "        \"\"\"\n",
    "        self.modules.append(module)\n",
    "\n",
    "    def updateOutput(self, input):\n",
    "        \"\"\"\n",
    "        Basic workflow of FORWARD PASS:\n",
    "\n",
    "            y_0    = module[0].forward(input)\n",
    "            y_1    = module[1].forward(y_0)\n",
    "            ...\n",
    "            output = module[n-1].forward(y_{n-2})\n",
    "\n",
    "\n",
    "        Just write a little loop.\n",
    "        \"\"\"\n",
    "\n",
    "        # Your code goes here. ################################################\n",
    "        self.output = input\n",
    "        for module in self.modules:\n",
    "            self.output = module.forward(self.output)\n",
    "        return self.output\n",
    "\n",
    "    def backward(self, input, gradOutput):\n",
    "        \"\"\"\n",
    "        Workflow of BACKWARD PASS:\n",
    "\n",
    "            g_{n-1} = module[n-1].backward(y_{n-2}, gradOutput)\n",
    "            g_{n-2} = module[n-2].backward(y_{n-3}, g_{n-1})\n",
    "            ...\n",
    "            g_1 = module[1].backward(y_0, g_2)\n",
    "            gradInput = module[0].backward(input, g_1)\n",
    "\n",
    "\n",
    "        !!!\n",
    "\n",
    "        To ech module you need to provide the input, module saw while forward pass,\n",
    "        it is used while computing gradients.\n",
    "        Make sure that the input for `i-th` layer the output of `module[i]` (just the same input as in forward pass)\n",
    "        and NOT `input` to this Sequential module.\n",
    "\n",
    "        !!!\n",
    "\n",
    "        \"\"\"\n",
    "        # Your code goes here. ################################################\n",
    "        outputs = [input]\n",
    "        for i in range(len(self.modules)):\n",
    "            outputs.append(self.modules[i].forward(outputs[-1]))\n",
    "        current_grad = gradOutput\n",
    "        for i in range(len(self.modules)-1, -1, -1):\n",
    "            current_grad = self.modules[i].backward(outputs[i], current_grad)\n",
    "        self.gradInput = current_grad\n",
    "        return self.gradInput\n",
    "\n",
    "\n",
    "    def zeroGradParameters(self):\n",
    "        for module in self.modules:\n",
    "            module.zeroGradParameters()\n",
    "\n",
    "    def getParameters(self):\n",
    "        \"\"\"\n",
    "        Should gather all parameters in a list.\n",
    "        \"\"\"\n",
    "        return [x.getParameters() for x in self.modules]\n",
    "\n",
    "    def getGradParameters(self):\n",
    "        \"\"\"\n",
    "        Should gather all gradients w.r.t parameters in a list.\n",
    "        \"\"\"\n",
    "        return [x.getGradParameters() for x in self.modules]\n",
    "\n",
    "    def __repr__(self):\n",
    "        string = \"\".join([str(x) + '\\n' for x in self.modules])\n",
    "        return string\n",
    "\n",
    "    def __getitem__(self,x):\n",
    "        return self.modules.__getitem__(x)\n",
    "\n",
    "    def train(self):\n",
    "        \"\"\"\n",
    "        Propagates training parameter through all modules\n",
    "        \"\"\"\n",
    "        self.training = True\n",
    "        for module in self.modules:\n",
    "            module.train()\n",
    "\n",
    "    def evaluate(self):\n",
    "        \"\"\"\n",
    "        Propagates training parameter through all modules\n",
    "        \"\"\"\n",
    "        self.training = False\n",
    "        for module in self.modules:\n",
    "            module.evaluate()"
   ]
  },
  {
   "cell_type": "markdown",
   "metadata": {
    "id": "zfXdYfO4j6ea"
   },
   "source": [
    "# Layers"
   ]
  },
  {
   "cell_type": "markdown",
   "metadata": {
    "id": "ZuwvBkuNj6ea"
   },
   "source": [
    "## 1 (0.2). Linear transform layer\n",
    "Also known as dense layer, fully-connected layer, FC-layer, InnerProductLayer (in caffe), affine transform\n",
    "- input:   **`batch_size x n_feats1`**\n",
    "- output: **`batch_size x n_feats2`**"
   ]
  },
  {
   "cell_type": "code",
   "execution_count": 90,
   "metadata": {
    "id": "D0uoyqkpj6ea"
   },
   "outputs": [],
   "source": [
    "class Linear(Module):\n",
    "    \"\"\"\n",
    "    A module which applies a linear transformation\n",
    "    A common name is fully-connected layer, InnerProductLayer in caffe.\n",
    "\n",
    "    The module should work with 2D input of shape (n_samples, n_feature).\n",
    "    \"\"\"\n",
    "    def __init__(self, n_in, n_out):\n",
    "        super(Linear, self).__init__()\n",
    "\n",
    "        # This is a nice initialization\n",
    "        stdv = 1./np.sqrt(n_in)\n",
    "        self.W = np.random.uniform(-stdv, stdv, size = (n_out, n_in))\n",
    "        self.b = np.random.uniform(-stdv, stdv, size = n_out)\n",
    "\n",
    "        self.gradW = np.zeros_like(self.W)\n",
    "        self.gradb = np.zeros_like(self.b)\n",
    "\n",
    "    def updateOutput(self, input):\n",
    "        # Your code goes here. ################################################\n",
    "        self.output = input @ self.W.T + self.b\n",
    "        return self.output\n",
    "\n",
    "    def updateGradInput(self, input, gradOutput):\n",
    "        # Your code goes here. ################################################\n",
    "        self.gradInput = gradOutput @ self.W\n",
    "        return self.gradInput\n",
    "\n",
    "    def accGradParameters(self, input, gradOutput):\n",
    "        # Your code goes here. ################################################\n",
    "        self.gradW += gradOutput.T @ input\n",
    "        self.gradb += gradOutput.sum(axis=0)\n",
    "        pass\n",
    "\n",
    "    def zeroGradParameters(self):\n",
    "        self.gradW.fill(0)\n",
    "        self.gradb.fill(0)\n",
    "\n",
    "    def getParameters(self):\n",
    "        return [self.W, self.b]\n",
    "\n",
    "    def getGradParameters(self):\n",
    "        return [self.gradW, self.gradb]\n",
    "\n",
    "    def __repr__(self):\n",
    "        s = self.W.shape\n",
    "        q = 'Linear %d -> %d' %(s[1],s[0])\n",
    "        return q"
   ]
  },
  {
   "cell_type": "markdown",
   "metadata": {
    "id": "tNOnHXZJj6eb"
   },
   "source": [
    "## 2. (0.2) SoftMax\n",
    "- input:   **`batch_size x n_feats`**\n",
    "- output: **`batch_size x n_feats`**\n",
    "\n",
    "$\\text{softmax}(x)_i = \\frac{\\exp x_i} {\\sum_j \\exp x_j}$\n",
    "\n",
    "Recall that $\\text{softmax}(x) == \\text{softmax}(x - \\text{const})$. It makes possible to avoid computing exp() from large argument."
   ]
  },
  {
   "cell_type": "code",
   "execution_count": 92,
   "metadata": {
    "id": "VIValI0hj6eb"
   },
   "outputs": [],
   "source": [
    "class SoftMax(Module):\n",
    "    def __init__(self):\n",
    "         super(SoftMax, self).__init__()\n",
    "\n",
    "    def updateOutput(self, input):\n",
    "        # start with normalization for numerical stability\n",
    "        norm_input = np.subtract(input, input.max(axis=1, keepdims=True))\n",
    "\n",
    "        # Your code goes here. ################################################\n",
    "        self.output = np.exp(norm_input) / np.exp(norm_input).sum(axis=1, keepdims=True)\n",
    "        return self.output\n",
    "\n",
    "    def updateGradInput(self, input, gradOutput):\n",
    "        # Your code goes here. ################################################\n",
    "        self.updateOutput(input)\n",
    "        batch_size = input.shape[0]\n",
    "        gradInput = np.zeros_like(input)\n",
    "        for i in range(batch_size):\n",
    "            softmax_output = self.output[i].reshape(-1, 1)\n",
    "            grad_output = gradOutput[i].reshape(-1, 1)\n",
    "            jacobian = np.diagflat(softmax_output) - softmax_output @ softmax_output.T\n",
    "            gradInput[i] = (jacobian @ grad_output).flatten()\n",
    "        self.gradInput = gradInput\n",
    "        return self.gradInput\n",
    "        return self.gradInput\n",
    "\n",
    "    def __repr__(self):\n",
    "        return \"SoftMax\""
   ]
  },
  {
   "cell_type": "markdown",
   "metadata": {
    "id": "Cy3DJjynj6eb"
   },
   "source": [
    "## 3. (0.2) LogSoftMax\n",
    "- input:   **`batch_size x n_feats`**\n",
    "- output: **`batch_size x n_feats`**\n",
    "\n",
    "$\\text{logsoftmax}(x)_i = \\log\\text{softmax}(x)_i = x_i - \\log {\\sum_j \\exp x_j}$\n",
    "\n",
    "The main goal of this layer is to be used in computation of log-likelihood loss."
   ]
  },
  {
   "cell_type": "code",
   "execution_count": 94,
   "metadata": {
    "id": "Xo7DRdAJj6eb"
   },
   "outputs": [],
   "source": [
    "class LogSoftMax(Module):\n",
    "    def __init__(self):\n",
    "         super(LogSoftMax, self).__init__()\n",
    "\n",
    "    def updateOutput(self, input):\n",
    "        # start with normalization for numerical stability\n",
    "        norm_input = np.subtract(input, input.max(axis=1, keepdims=True))\n",
    "\n",
    "        # Your code goes here. ################################################\n",
    "        self.output = norm_input - np.log(np.exp(norm_input).sum(axis=1, keepdims=True))\n",
    "        return self.output\n",
    "\n",
    "    def updateGradInput(self, input, gradOutput):\n",
    "        # Your code goes here. ################################################\n",
    "        self.updateOutput(input)\n",
    "        self.gradInput = gradOutput - np.exp(self.output) * gradOutput.sum(axis=1, keepdims=True)\n",
    "        return self.gradInput\n",
    "\n",
    "    def __repr__(self):\n",
    "        return \"LogSoftMax\""
   ]
  },
  {
   "cell_type": "markdown",
   "metadata": {
    "id": "QP5QdmmPj6eb"
   },
   "source": [
    "## 4. (0.3) Batch normalization\n",
    "One of the most significant recent ideas that impacted NNs a lot is [**Batch normalization**](http://arxiv.org/abs/1502.03167). The idea is simple, yet effective: the features should be whitened ($mean = 0$, $std = 1$) all the way through NN. This improves the convergence for deep models letting it train them for days but not weeks. **You are** to implement the first part of the layer: features normalization. The second part (`ChannelwiseScaling` layer) is implemented below.\n",
    "\n",
    "- input:   **`batch_size x n_feats`**\n",
    "- output: **`batch_size x n_feats`**\n",
    "\n",
    "The layer should work as follows. While training (`self.training == True`) it transforms input as $$y = \\frac{x - \\mu}  {\\sqrt{\\sigma + \\epsilon}}$$\n",
    "where $\\mu$ and $\\sigma$ - mean and variance of feature values in **batch** and $\\epsilon$ is just a small number for numericall stability. Also during training, layer should maintain exponential moving average values for mean and variance:\n",
    "```\n",
    "    self.moving_mean = self.moving_mean * alpha + batch_mean * (1 - alpha)\n",
    "    self.moving_variance = self.moving_variance * alpha + batch_variance * (1 - alpha)\n",
    "```\n",
    "During testing (`self.training == False`) the layer normalizes input using moving_mean and moving_variance.\n",
    "\n",
    "Note that decomposition of batch normalization on normalization itself and channelwise scaling here is just a common **implementation** choice. In general \"batch normalization\" always assumes normalization + scaling."
   ]
  },
  {
   "cell_type": "code",
   "execution_count": 96,
   "metadata": {
    "id": "fGTTDqVgj6eb"
   },
   "outputs": [],
   "source": [
    "class BatchNormalization(Module):\n",
    "    EPS = 1e-3\n",
    "    def __init__(self, alpha = 0.):\n",
    "        super(BatchNormalization, self).__init__()\n",
    "        self.alpha = alpha\n",
    "        self.moving_mean = None\n",
    "        self.moving_variance = None\n",
    "\n",
    "    def updateOutput(self, input):\n",
    "        # Your code goes here. ################################################\n",
    "        # use self.EPS please\n",
    "        if self.training:\n",
    "            batch_mean = np.mean(input, axis=0)\n",
    "            batch_variance = np.var(input, axis=0, ddof=0)\n",
    "            self.output = (input - batch_mean) / np.sqrt(batch_variance + self.EPS)\n",
    "            if self.moving_mean is None:\n",
    "                self.moving_mean = batch_mean\n",
    "                self.moving_variance = batch_variance\n",
    "            else:\n",
    "                self.moving_mean = self.alpha * self.moving_mean + (1 - self.alpha) * batch_mean\n",
    "                self.moving_variance = self.alpha * self.moving_variance + (1 - self.alpha) * batch_variance\n",
    "        else:\n",
    "            self.output = (input - self.moving_mean) / np.sqrt(self.moving_variance + self.EPS)\n",
    "        return self.output\n",
    "\n",
    "    def updateGradInput(self, input, gradOutput):\n",
    "        # Your code goes here. ################################################\n",
    "        if self.training:\n",
    "            batch_mean = np.mean(input, axis=0)\n",
    "            batch_variance = np.var(input, axis=0)\n",
    "            sigma = np.sqrt(batch_variance + self.EPS)\n",
    "            m = input.shape[0]  # batch size\n",
    "            mean_grad = np.mean(gradOutput, axis=0)\n",
    "            covar_grad = np.mean(gradOutput * (input - batch_mean), axis=0) / (sigma**2)\n",
    "            self.gradInput = (gradOutput - mean_grad - (input - batch_mean) * covar_grad) / sigma\n",
    "            self.gradGamma = np.sum((input - batch_mean) * gradOutput / sigma, axis=0)\n",
    "            self.gradBeta = np.sum(gradOutput, axis=0)\n",
    "        else:\n",
    "            self.gradInput = gradOutput\n",
    "        return self.gradInput\n",
    "\n",
    "    def __repr__(self):\n",
    "        return \"BatchNormalization\""
   ]
  },
  {
   "cell_type": "code",
   "execution_count": 98,
   "metadata": {
    "id": "8XUS3Lt-j6eb"
   },
   "outputs": [],
   "source": [
    "class ChannelwiseScaling(Module):\n",
    "    \"\"\"\n",
    "       Implements linear transform of input y = \\gamma * x + \\beta\n",
    "       where \\gamma, \\beta - learnable vectors of length x.shape[-1]\n",
    "    \"\"\"\n",
    "    def __init__(self, n_out):\n",
    "        super(ChannelwiseScaling, self).__init__()\n",
    "\n",
    "        stdv = 1./np.sqrt(n_out)\n",
    "        self.gamma = np.random.uniform(-stdv, stdv, size=n_out)\n",
    "        self.beta = np.random.uniform(-stdv, stdv, size=n_out)\n",
    "\n",
    "        self.gradGamma = np.zeros_like(self.gamma)\n",
    "        self.gradBeta = np.zeros_like(self.beta)\n",
    "\n",
    "    def updateOutput(self, input):\n",
    "        self.output = input * self.gamma + self.beta\n",
    "        return self.output\n",
    "\n",
    "    def updateGradInput(self, input, gradOutput):\n",
    "        self.gradInput = gradOutput * self.gamma\n",
    "        return self.gradInput\n",
    "\n",
    "    def accGradParameters(self, input, gradOutput):\n",
    "        self.gradBeta = np.sum(gradOutput, axis=0)\n",
    "        self.gradGamma = np.sum(gradOutput*input, axis=0)\n",
    "\n",
    "    def zeroGradParameters(self):\n",
    "        self.gradGamma.fill(0)\n",
    "        self.gradBeta.fill(0)\n",
    "\n",
    "    def getParameters(self):\n",
    "        return [self.gamma, self.beta]\n",
    "\n",
    "    def getGradParameters(self):\n",
    "        return [self.gradGamma, self.gradBeta]\n",
    "\n",
    "    def __repr__(self):\n",
    "        return \"ChannelwiseScaling\""
   ]
  },
  {
   "cell_type": "markdown",
   "metadata": {
    "id": "vA5zjM3jj6eb"
   },
   "source": [
    "Practical notes. If BatchNormalization is placed after a linear transformation layer (including dense layer, convolutions, channelwise scaling) that implements function like `y = weight * x + bias`, than bias adding become useless and could be omitted since its effect will be discarded while batch mean subtraction. If BatchNormalization (followed by `ChannelwiseScaling`) is placed before a layer that propagates scale (including ReLU, LeakyReLU) followed by any linear transformation layer than parameter `gamma` in `ChannelwiseScaling` could be freezed since it could be absorbed into the linear transformation layer."
   ]
  },
  {
   "cell_type": "markdown",
   "metadata": {
    "id": "Gackeo1cj6eb"
   },
   "source": [
    "## 5. (0.3) Dropout\n",
    "Implement [**dropout**](https://www.cs.toronto.edu/~hinton/absps/JMLRdropout.pdf). The idea and implementation is really simple: just multimply the input by $Bernoulli(p)$ mask. Here $p$ is probability of an element to be zeroed.\n",
    "\n",
    "This has proven to be an effective technique for regularization and preventing the co-adaptation of neurons.\n",
    "\n",
    "While training (`self.training == True`) it should sample a mask on each iteration (for every batch), zero out elements and multiply elements by $1 / (1 - p)$. The latter is needed for keeping mean values of features close to mean values which will be in test mode. When testing this module should implement identity transform i.e. `self.output = input`.\n",
    "\n",
    "- input:   **`batch_size x n_feats`**\n",
    "- output: **`batch_size x n_feats`**"
   ]
  },
  {
   "cell_type": "code",
   "execution_count": 100,
   "metadata": {
    "id": "NmLQV3jXj6eb"
   },
   "outputs": [],
   "source": [
    "class Dropout(Module):\n",
    "    def __init__(self, p=0.5):\n",
    "        super(Dropout, self).__init__()\n",
    "\n",
    "        self.p = p\n",
    "        self.mask = None\n",
    "\n",
    "    def updateOutput(self, input):\n",
    "        # Your code goes here. ################################################\n",
    "        if self.training:\n",
    "            self.mask = (np.random.rand(*input.shape) > self.p).astype(float)\n",
    "            self.output = input * self.mask / (1 - self.p)\n",
    "        else:\n",
    "            self.output = input\n",
    "        return  self.output\n",
    "\n",
    "    def updateGradInput(self, input, gradOutput):\n",
    "        # Your code goes here. ################################################\n",
    "        if self.training:\n",
    "            self.gradInput = gradOutput * self.mask / (1 - self.p)\n",
    "        else:\n",
    "            self.gradInput = gradOutput\n",
    "        return self.gradInput\n",
    "\n",
    "    def __repr__(self):\n",
    "        return \"Dropout\""
   ]
  },
  {
   "cell_type": "markdown",
   "metadata": {
    "id": "-WHGIqJFlhz2"
   },
   "source": [
    "# 6. (2.0) Conv2d\n",
    "Implement [**Conv2d**](https://pytorch.org/docs/stable/generated/torch.nn.Conv2d.html). Use only this list of parameters: (in_channels, out_channels, kernel_size, stride, padding, bias, padding_mode) and fix dilation=1 and groups=1."
   ]
  },
  {
   "cell_type": "code",
   "execution_count": 102,
   "metadata": {
    "id": "c1RjNoEXlOHP"
   },
   "outputs": [],
   "source": [
    "class Conv2d(Module):\n",
    "    def __init__(self, in_channels, out_channels, kernel_size,\n",
    "                 stride=1, padding=0, bias=True, padding_mode='zeros'):\n",
    "        super(Conv2d, self).__init__()\n",
    "\n",
    "        self.in_channels = in_channels\n",
    "        self.out_channels = out_channels\n",
    "        self.kernel_size = (kernel_size, kernel_size) if isinstance(kernel_size, int) else kernel_size\n",
    "        self.stride = (stride, stride) if isinstance(stride, int) else stride\n",
    "        if padding == 'same':\n",
    "          self.padding = (int((self.kernel_size[0] - 1) / 2), int((self.kernel_size[1] - 1) / 2))\n",
    "        else:\n",
    "          self.padding = (padding, padding) if isinstance(padding, int) else padding\n",
    "        self.bias_TF = bias\n",
    "        self.padding_mode = padding_mode\n",
    "\n",
    "        self.weight = np.random.randn(self.out_channels, self.in_channels, self.kernel_size[0], self.kernel_size[1])\n",
    "        self.gradW = np.zeros_like(self.weight)\n",
    "        if self.bias_TF:\n",
    "          self.bias = np.random.randn(out_channels)\n",
    "          self.gradb = np.zeros_like(self.bias)\n",
    "\n",
    "        if self.padding_mode=='zeros':\n",
    "          self.mode='constant'\n",
    "          self.constant_values=0\n",
    "        elif self.padding_mode=='replicate':\n",
    "          self.mode='edge'\n",
    "        elif self.padding_mode=='reflect':\n",
    "          self.mode='reflect'\n",
    "    def updateOutput(self, input):\n",
    "        # Your code goes here. ################################################\n",
    "        batch_size = input.shape[0]\n",
    "        H_in, W_in = input.shape[2], input.shape[3]\n",
    "        H_out = int((H_in + 2 * self.padding[0] - self.kernel_size[0]) / self.stride[0]) + 1\n",
    "        W_out = int((W_in + 2 * self.padding[1] - self.kernel_size[1]) / self.stride[1]) + 1\n",
    "        self.output = np.zeros((batch_size, self.out_channels, H_out, W_out))\n",
    "\n",
    "        pad_config = ((0, 0), (0, 0), (self.padding[0], self.padding[0]), (self.padding[1], self.padding[1]))\n",
    "        if self.mode == 'constant':\n",
    "            self.input_pad = np.pad(input, pad_config, mode=self.mode, constant_values=self.constant_values)\n",
    "        else:\n",
    "            self.input_pad = np.pad(input, pad_config, mode=self.mode)\n",
    "\n",
    "        for n in range(batch_size):\n",
    "            for c in range(self.out_channels):\n",
    "                for h in range(H_out):\n",
    "                    h_start = h * self.stride[0]\n",
    "                    for w in range(W_out):\n",
    "                        w_start = w * self.stride[1]\n",
    "                        field = self.input_pad[n, :, h_start:h_start+self.kernel_size[0], \n",
    "                                             w_start:w_start+self.kernel_size[1]]\n",
    "                        self.output[n, c, h, w] = np.sum(field * self.weight[c])\n",
    "                if self.bias_TF:\n",
    "                    self.output[n, c] += self.bias[c]\n",
    "        return self.output\n",
    "    \n",
    "    def updateGradInput(self, input, gradOutput):\n",
    "        # Your code goes here. ################################################\n",
    "        batch_size = input.shape[0]\n",
    "        H_in, W_in = input.shape[2], input.shape[3]\n",
    "        _, _, H_out, W_out = gradOutput.shape\n",
    "        self.gradInput = np.zeros_like(input)\n",
    "        for n in range(batch_size):\n",
    "            for c_out in range(self.out_channels):\n",
    "                for h_out in range(H_out):\n",
    "                    h_start = h_out * self.stride[0]\n",
    "                    for w_out in range(W_out):\n",
    "                        w_start = w_out * self.stride[1]\n",
    "                        for c_in in range(self.in_channels):\n",
    "                            for h_k in range(self.kernel_size[0]):\n",
    "                                h_in = h_start + h_k - self.padding[0]\n",
    "                                for w_k in range(self.kernel_size[1]):\n",
    "                                    w_in = w_start + w_k - self.padding[1]\n",
    "                                    if 0 <= h_in < H_in and 0 <= w_in < W_in:\n",
    "                                        self.gradInput[n, c_in, h_in, w_in] += (\n",
    "                                            gradOutput[n, c_out, h_out, w_out] * \n",
    "                                            self.weight[c_out, c_in, h_k, w_k]\n",
    "                                        )\n",
    "                                    else:\n",
    "                                        if self.mode == 'edge':\n",
    "                                            h_clip = max(0, min(h_in, H_in - 1))\n",
    "                                            w_clip = max(0, min(w_in, W_in - 1))\n",
    "                                            self.gradInput[n, c_in, h_clip, w_clip] += (\n",
    "                                                gradOutput[n, c_out, h_out, w_out] * \n",
    "                                                self.weight[c_out, c_in, h_k, w_k]\n",
    "                                            )\n",
    "                                        elif self.mode == 'reflect':\n",
    "                                            h_ref = h_in\n",
    "                                            if h_in < 0: h_ref = -h_in\n",
    "                                            elif h_in >= H_in: h_ref = 2 * H_in - h_in - 2\n",
    "                                            w_ref = w_in\n",
    "                                            if w_in < 0: w_ref = -w_in\n",
    "                                            elif w_in >= W_in: w_ref = 2 * W_in - w_in - 2\n",
    "                                            self.gradInput[n, c_in, h_ref, w_ref] += (\n",
    "                                                gradOutput[n, c_out, h_out, w_out] * \n",
    "                                                self.weight[c_out, c_in, h_k, w_k]\n",
    "                                            )\n",
    "        \n",
    "        return self.gradInput\n",
    "\n",
    "    def accGradParameters(self, input, gradOutput):\n",
    "        H_in, W_in = input.shape[-2:]\n",
    "        batch_size, C_out, H_out, W_out = gradOutput.shape\n",
    "\n",
    "        self.gradInput = np.zeros_like(input)\n",
    "\n",
    "        for n in range(batch_size):\n",
    "          for c_out in range(self.out_channels):\n",
    "            for h_out in range(H_out):\n",
    "              for w_out in range(W_out):\n",
    "                h_start = h_out * self.stride[0]\n",
    "                w_start = w_out * self.stride[1]\n",
    "\n",
    "                receptive_field = self.input_pad[n, :, h_start:(h_start + self.kernel_size[0]), w_start: (w_start+ self.kernel_size[1])]\n",
    "\n",
    "                self.gradW[c_out] += receptive_field * gradOutput[n, c_out, h_out, w_out]\n",
    "                if self.bias_TF:\n",
    "                  self.gradb[c_out] += gradOutput[n, c_out, h_out, w_out]\n",
    "        pass\n",
    "\n",
    "    def zeroGradParameters(self):\n",
    "        self.gradW.fill(0)\n",
    "        if self.bias_TF:\n",
    "          self.gradb.fill(0)\n",
    "\n",
    "    def getParameters(self):\n",
    "        if self.bias_TF:\n",
    "          return [self.weight, self.bias]\n",
    "        else: return [self.weight]\n",
    "\n",
    "    def getGradParameters(self):\n",
    "        if self.bias_TF:\n",
    "          return [self.gradW, self.gradb]\n",
    "        else: return [self.gradW]\n",
    "\n",
    "    def __repr__(self):\n",
    "        return \"Conv2d\""
   ]
  },
  {
   "cell_type": "markdown",
   "metadata": {
    "id": "updUVZE9qixP"
   },
   "source": [
    "# 7. (0.5) Implement [**MaxPool2d**](https://pytorch.org/docs/stable/generated/torch.nn.MaxPool2d.html) and [**AvgPool2d**](https://pytorch.org/docs/stable/generated/torch.nn.AvgPool2d.html).\n",
    "Use only parameters like kernel_size, stride, padding (negative infinity for maxpool and zero for avgpool) and other parameters fixed as in framework."
   ]
  },
  {
   "cell_type": "code",
   "execution_count": 104,
   "metadata": {
    "id": "Qys58EzkqhLj"
   },
   "outputs": [],
   "source": [
    "class MaxPool2d(Module):\n",
    "    def __init__(self, kernel_size, stride, padding):\n",
    "        super(MaxPool2d, self).__init__()\n",
    "\n",
    "        self.kernel_size = kernel_size\n",
    "        self.stride = stride\n",
    "        self.padding = padding\n",
    "\n",
    "    def updateOutput(self, input):\n",
    "        # Your code goes here. ################################################\n",
    "        batch_size, in_channels, in_height, in_width = input.shape\n",
    "        kernel_size = self.kernel_size if isinstance(self.kernel_size, tuple) else (self.kernel_size, self.kernel_size)\n",
    "        stride = self.stride if isinstance(self.stride, tuple) else (self.stride, self.stride)\n",
    "        padding = self.padding if isinstance(self.padding, tuple) else (self.padding, self.padding)\n",
    "        out_height = (in_height + 2 * padding[0] - kernel_size[0]) // stride[0] + 1\n",
    "        out_width = (in_width + 2 * padding[1] - kernel_size[1]) // stride[1] + 1\n",
    "        self.output = np.zeros((batch_size, in_channels, out_height, out_width))\n",
    "        self.indices = np.zeros((batch_size, in_channels, out_height, out_width, 2), dtype=int)\n",
    "        input_padded = np.pad(input, ((0, 0), (0, 0), (padding[0], padding[0]), (padding[1], padding[1])), mode='constant', constant_values=-np.inf)\n",
    "    \n",
    "        for b in range(batch_size):\n",
    "            for c in range(in_channels):\n",
    "                for oh in range(out_height):\n",
    "                    for ow in range(out_width):\n",
    "                        h_start = oh * stride[0]\n",
    "                        h_end = h_start + kernel_size[0]\n",
    "                        w_start = ow * stride[1]\n",
    "                        w_end = w_start + kernel_size[1]\n",
    "                        receptive_field = input_padded[b, c, h_start:h_end, w_start:w_end]\n",
    "                        self.output[b, c, oh, ow] = np.max(receptive_field)\n",
    "                        max_index = np.unravel_index(np.argmax(receptive_field), receptive_field.shape)\n",
    "                        self.indices[b, c, oh, ow] = [h_start + max_index[0], w_start + max_index[1]]\n",
    "        return  self.output\n",
    "\n",
    "    def updateGradInput(self, input, gradOutput):\n",
    "        # Your code goes here. ################################################\n",
    "        batch_size, in_channels, in_height, in_width = input.shape\n",
    "        kernel_size = self.kernel_size if isinstance(self.kernel_size, tuple) else (self.kernel_size, self.kernel_size)\n",
    "        stride = self.stride if isinstance(self.stride, tuple) else (self.stride, self.stride)\n",
    "        padding = self.padding if isinstance(self.padding, tuple) else (self.padding, self.padding)\n",
    "        self.gradInput = np.zeros_like(input)\n",
    "\n",
    "        for b in range(batch_size):\n",
    "            for c in range(in_channels):\n",
    "                for oh in range(gradOutput.shape[2]):\n",
    "                    for ow in range(gradOutput.shape[3]):\n",
    "                        h, w = self.indices[b, c, oh, ow]\n",
    "                        self.gradInput[b, c, h, w] += gradOutput[b, c, oh, ow]\n",
    "        return self.gradInput\n",
    "\n",
    "    def __repr__(self):\n",
    "        return \"MaxPool2d\"\n",
    "\n",
    "\n",
    "class AvgPool2d(Module):\n",
    "    def __init__(self, kernel_size, stride, padding):\n",
    "        super(AvgPool2d, self).__init__()\n",
    "\n",
    "        self.kernel_size = (kernel_size, kernel_size) if isinstance(kernel_size, int) else kernel_size\n",
    "        self.stride = (stride, stride) if isinstance(stride, int) else stride\n",
    "        self.padding = (padding, padding) if isinstance(padding, int) else padding\n",
    "\n",
    "    def updateOutput(self, input):\n",
    "        batch_size, channels, in_h, in_w = input.shape\n",
    "        out_h = (in_h + 2*self.padding[0] - self.kernel_size[0]) // self.stride[0] + 1\n",
    "        out_w = (in_w + 2*self.padding[1] - self.kernel_size[1]) // self.stride[1] + 1\n",
    "        if any(self.padding):\n",
    "            pad_h, pad_w = self.padding\n",
    "            padded_input = np.pad(input, \n",
    "                               ((0,0), (0,0),\n",
    "                               (pad_h, pad_h),\n",
    "                               (pad_w, pad_w)))\n",
    "        else:\n",
    "            padded_input = input\n",
    "        self.output = np.empty((batch_size, channels, out_h, out_w))\n",
    "        for n in range(batch_size):\n",
    "            for c in range(channels):\n",
    "                for h in range(out_h):\n",
    "                    h_start = h * self.stride[0]\n",
    "                    for w in range(out_w):\n",
    "                        w_start = w * self.stride[1]\n",
    "                        window = padded_input[n, c, \n",
    "                                            h_start:h_start+self.kernel_size[0],\n",
    "                                            w_start:w_start+self.kernel_size[1]]\n",
    "                        self.output[n, c, h, w] = window.mean()\n",
    "                        \n",
    "        return self.output\n",
    "    \n",
    "    def updateGradInput(self, input, gradOutput):\n",
    "        batch_size, channels, out_h, out_w = gradOutput.shape\n",
    "        in_h, in_w = input.shape[2:]\n",
    "        kernel_area = self.kernel_size[0] * self.kernel_size[1]\n",
    "        self.gradInput = np.zeros_like(input)\n",
    "        for n in range(batch_size):\n",
    "            for c in range(channels):\n",
    "                for h_out in range(out_h):\n",
    "                    h_in = h_out * self.stride[0] - self.padding[0]\n",
    "                    for w_out in range(out_w):\n",
    "                        w_in = w_out * self.stride[1] - self.padding[1]\n",
    "                        grad = gradOutput[n, c, h_out, w_out] / kernel_area\n",
    "                        for h_k in range(self.kernel_size[0]):\n",
    "                            for w_k in range(self.kernel_size[1]):\n",
    "                                hi = h_in + h_k\n",
    "                                wi = w_in + w_k\n",
    "                                if 0 <= hi < in_h and 0 <= wi < in_w:\n",
    "                                    self.gradInput[n, c, hi, wi] += grad\n",
    "                                    \n",
    "        return self.gradInput\n",
    "\n",
    "    def __repr__(self):\n",
    "        return \"AvgPool2d\""
   ]
  },
  {
   "cell_type": "markdown",
   "metadata": {
    "id": "KTN5R3CwrukV"
   },
   "source": [
    "# 8. (0.3) Implement **GlobalMaxPool2d** and **GlobalAvgPool2d**.\n",
    "They do not have testing and parameters are up to you but they must aggregate information within channels. Write test functions for these layers on your own."
   ]
  },
  {
   "cell_type": "code",
   "execution_count": 106,
   "metadata": {},
   "outputs": [],
   "source": [
    "class GlobalMaxPool2d(Module):\n",
    "    def __init__(self, keepdims):\n",
    "        super(GlobalMaxPool2d, self).__init__()\n",
    "        self.keepdims = keepdims\n",
    "\n",
    "    def updateOutput(self, input):\n",
    "        # Your code goes here. ################################################\n",
    "        batch_size, C, H, W = input.shape\n",
    "        self.output = np.max(input, axis=(2, 3))\n",
    "        input_1 = input.reshape(batch_size, C, -1)\n",
    "        self.max_indices = np.argmax(input_1, axis=2)\n",
    "        if self.keepdims:\n",
    "          self.output = self.output.reshape((batch_size, C, 1, 1))\n",
    "        return self.output\n",
    "\n",
    "    def updateGradInput(self, input, gradOutput):\n",
    "        # Your code goes here. ################################################\n",
    "        batch_size, C = gradOutput.shape[:2]\n",
    "        H, W = input.shape[-2:]\n",
    "        self.gradInput = np.zeros_like(input)\n",
    "        if self.keepdims:\n",
    "            gradOutput = gradOutput.reshape(batch_size, C)\n",
    "        max_h = self.max_indices // W\n",
    "        max_w = self.max_indices % W\n",
    "        batch, channel = np.indices((batch_size, C))\n",
    "        self.gradInput[batch, channel, max_h, max_w] = gradOutput\n",
    "        return self.gradInput\n",
    "\n",
    "    def __repr__(self):\n",
    "        return \"GlobalMaxPool2d\"\n",
    "\n",
    "\n",
    "class GlobalAvgPool2d(Module):\n",
    "    def __init__(self, keepdims):\n",
    "        super(GlobalAvgPool2d, self).__init__()\n",
    "\n",
    "        self.keepdims = keepdims\n",
    "\n",
    "    def updateOutput(self, input):\n",
    "        # Your code goes here. ################################################\n",
    "        batch_size, C, H, W = input.shape\n",
    "        self.output = np.average(input, axis=(2, 3))\n",
    "        if self.keepdims:\n",
    "          self.output = self.output.reshape((batch_size, C, 1, 1))\n",
    "        return self.output\n",
    "\n",
    "    def updateGradInput(self, input, gradOutput):\n",
    "        # Your code goes here. ################################################\n",
    "        batch_size, C = gradOutput.shape[:2]\n",
    "        H, W = input.shape[-2:]\n",
    "        n_pix = H*W\n",
    "        self.gradInput = np.zeros_like(input)\n",
    "        if self.keepdims:\n",
    "            gradOutput = gradOutput.reshape(batch_size, C)\n",
    "        for n in range(batch_size):\n",
    "            for c in range(C):\n",
    "              self.gradInput[n, c] = gradOutput[n,c] / n_pix\n",
    "        return self.gradInput\n",
    "\n",
    "    def __repr__(self):\n",
    "        return \"GlobalAvgPool2d\""
   ]
  },
  {
   "cell_type": "markdown",
   "metadata": {
    "id": "cYeBQDBhtViy"
   },
   "source": [
    "# 9. (0.2) Implement [**Flatten**](https://pytorch.org/docs/stable/generated/torch.flatten.html)"
   ]
  },
  {
   "cell_type": "code",
   "execution_count": 108,
   "metadata": {
    "id": "SimPEMOFqhTQ"
   },
   "outputs": [],
   "source": [
    "class Flatten(Module):\n",
    "    def __init__(self, start_dim=0, end_dim=-1):\n",
    "        super(Flatten, self).__init__()\n",
    "\n",
    "        self.start_dim = start_dim\n",
    "        self.end_dim = end_dim\n",
    "\n",
    "    def updateOutput(self, input):\n",
    "        # Your code goes here. ################################################\n",
    "        input_shape = input.shape\n",
    "        start_dim = self.start_dim\n",
    "        end_dim = self.end_dim if self.end_dim >= 0 else len(input_shape) + self.end_dim\n",
    "        preserved_dims = input_shape[:start_dim]\n",
    "        flattened_dims = input_shape[start_dim:end_dim+1]\n",
    "        remaining_dims = input_shape[end_dim+1:] if end_dim+1 < len(input_shape) else ()\n",
    "        flattened_size = 1\n",
    "        for dim in flattened_dims:\n",
    "            flattened_size *= dim\n",
    "        output_shape = preserved_dims + (flattened_size,) + remaining_dims\n",
    "        self.in_shape = input_shape\n",
    "        self.output = input.reshape(output_shape)\n",
    "        return self.output\n",
    "\n",
    "    def updateGradInput(self, input, gradOutput):\n",
    "        # Your code goes here. ################################################\n",
    "        self.gradInput = gradOutput.reshape(self.in_shape)\n",
    "        return self.gradInput\n",
    "\n",
    "    def __repr__(self):\n",
    "        return \"Flatten\""
   ]
  },
  {
   "cell_type": "markdown",
   "metadata": {
    "id": "o36vPHSSj6eb"
   },
   "source": [
    "# Activation functions"
   ]
  },
  {
   "cell_type": "markdown",
   "metadata": {
    "id": "l_pryRQIj6ec"
   },
   "source": [
    "Here's the complete example for the **Rectified Linear Unit** non-linearity (aka **ReLU**):"
   ]
  },
  {
   "cell_type": "code",
   "execution_count": 111,
   "metadata": {
    "id": "sgm8bXjKj6ec"
   },
   "outputs": [],
   "source": [
    "class ReLU(Module):\n",
    "    def __init__(self):\n",
    "         super(ReLU, self).__init__()\n",
    "\n",
    "    def updateOutput(self, input):\n",
    "        self.output = np.maximum(input, 0)\n",
    "        return self.output\n",
    "\n",
    "    def updateGradInput(self, input, gradOutput):\n",
    "        self.gradInput = np.multiply(gradOutput , input > 0)\n",
    "        return self.gradInput\n",
    "\n",
    "    def __repr__(self):\n",
    "        return \"ReLU\""
   ]
  },
  {
   "cell_type": "markdown",
   "metadata": {
    "id": "yB0UHGagj6ec"
   },
   "source": [
    "## 10. (0.1) Leaky ReLU\n",
    "Implement [**Leaky Rectified Linear Unit**](http://en.wikipedia.org/wiki%2FRectifier_%28neural_networks%29%23Leaky_ReLUs). Expriment with slope."
   ]
  },
  {
   "cell_type": "code",
   "execution_count": 113,
   "metadata": {
    "id": "agwfkwO0j6ec"
   },
   "outputs": [],
   "source": [
    "class LeakyReLU(Module):\n",
    "    def __init__(self, slope = 0.03):\n",
    "        super(LeakyReLU, self).__init__()\n",
    "\n",
    "        self.slope = slope\n",
    "\n",
    "    def updateOutput(self, input):\n",
    "        # Your code goes here. ################################################\n",
    "        self.output = np.where(input > 0, input, self.slope * input)\n",
    "        return  self.output\n",
    "\n",
    "    def updateGradInput(self, input, gradOutput):\n",
    "        # Your code goes here. ################################################\n",
    "        self.gradInput = np.where(input > 0, gradOutput, self.slope * gradOutput)\n",
    "        return self.gradInput\n",
    "\n",
    "    def __repr__(self):\n",
    "        return \"LeakyReLU\""
   ]
  },
  {
   "cell_type": "markdown",
   "metadata": {
    "id": "t-STyecvj6ec"
   },
   "source": [
    "## 11. (0.1) ELU\n",
    "Implement [**Exponential Linear Units**](http://arxiv.org/abs/1511.07289) activations."
   ]
  },
  {
   "cell_type": "code",
   "execution_count": 115,
   "metadata": {
    "id": "jJSzEu1mj6ec"
   },
   "outputs": [],
   "source": [
    "class ELU(Module):\n",
    "    def __init__(self, alpha = 1.0):\n",
    "        super(ELU, self).__init__()\n",
    "\n",
    "        self.alpha = alpha\n",
    "\n",
    "    def updateOutput(self, input):\n",
    "        # Your code goes here. ################################################\n",
    "        self.output = np.where(input > 0, input, self.alpha * (np.exp(input) - 1))\n",
    "        return  self.output\n",
    "\n",
    "    def updateGradInput(self, input, gradOutput):\n",
    "        # Your code goes here. ################################################\n",
    "        self.gradInput = np.where(input > 0, gradOutput, self.alpha * np.exp(input) * gradOutput)\n",
    "        return self.gradInput\n",
    "\n",
    "    def __repr__(self):\n",
    "        return \"ELU\""
   ]
  },
  {
   "cell_type": "markdown",
   "metadata": {
    "id": "Gn3C7KTqj6ec"
   },
   "source": [
    "## 12. (0.1) SoftPlus\n",
    "Implement [**SoftPlus**](https://en.wikipedia.org/wiki%2FRectifier_%28neural_networks%29) activations. Look, how they look a lot like ReLU."
   ]
  },
  {
   "cell_type": "code",
   "execution_count": 117,
   "metadata": {
    "id": "xcDPMssrj6ec"
   },
   "outputs": [],
   "source": [
    "class SoftPlus(Module):\n",
    "    def __init__(self):\n",
    "        super(SoftPlus, self).__init__()\n",
    "\n",
    "    def updateOutput(self, input):\n",
    "        # Your code goes here. ################################################\n",
    "        self.output = np.log1p(np.exp(input))\n",
    "        return  self.output\n",
    "\n",
    "    def updateGradInput(self, input, gradOutput):\n",
    "        # Your code goes here. ################################################\n",
    "        self.gradInput = (1.0 / (1.0 + np.exp(-input))) * gradOutput\n",
    "        return self.gradInput\n",
    "\n",
    "    def __repr__(self):\n",
    "        return \"SoftPlus\""
   ]
  },
  {
   "cell_type": "markdown",
   "metadata": {
    "id": "kw3PeZjOuo0e"
   },
   "source": [
    "# 13. (0.2) Gelu\n",
    "Implement [**Gelu**](https://pytorch.org/docs/stable/generated/torch.nn.GELU.html) activations."
   ]
  },
  {
   "cell_type": "code",
   "execution_count": 119,
   "metadata": {
    "id": "SdieE0Dtuo8j"
   },
   "outputs": [],
   "source": [
    "class Gelu(Module):\n",
    "    def __init__(self):\n",
    "        super(Gelu, self).__init__()\n",
    "\n",
    "    def updateOutput(self, input):\n",
    "        # Your code goes here. ################################################\n",
    "        self.output = 0.5 * input * (1 + np.tanh((2 / np.pi)**0.5 * (input + 0.044715 * input**3)))\n",
    "        return  self.output\n",
    "\n",
    "    def updateGradInput(self, input, gradOutput):\n",
    "        # Your code goes here. ###############################################\n",
    "        x = input\n",
    "        sqrt_2_pi = np.sqrt(2 / np.pi)\n",
    "        alpha = 0.044715\n",
    "        \n",
    "        x_cubed = x**3\n",
    "        r = sqrt_2_pi * (x + alpha * x_cubed)\n",
    "        tanh_r = np.tanh(r)\n",
    "        dtanh_dr = 1 - tanh_r**2\n",
    "        dr_dx = sqrt_2_pi * (1 + 3 * alpha * x**2)\n",
    "        dtanh_dx = dtanh_dr * dr_dx\n",
    "        gelu_grad = 0.5 * (1 + tanh_r) + 0.5 * x * dtanh_dx\n",
    "        self.gradInput = gradOutput * gelu_grad\n",
    "        return self.gradInput\n",
    "\n",
    "    def __repr__(self):\n",
    "        return \"Gelu\""
   ]
  },
  {
   "cell_type": "markdown",
   "metadata": {
    "id": "55p7UvPAj6ec"
   },
   "source": [
    "# Criterions"
   ]
  },
  {
   "cell_type": "markdown",
   "metadata": {
    "id": "5NFaxZaqj6ec"
   },
   "source": [
    "Criterions are used to score the models answers."
   ]
  },
  {
   "cell_type": "code",
   "execution_count": 121,
   "metadata": {
    "id": "XGu45A8qj6ec"
   },
   "outputs": [],
   "source": [
    "class Criterion(object):\n",
    "    def __init__ (self):\n",
    "        self.output = None\n",
    "        self.gradInput = None\n",
    "\n",
    "    def forward(self, input, target):\n",
    "        \"\"\"\n",
    "            Given an input and a target, compute the loss function\n",
    "            associated to the criterion and return the result.\n",
    "\n",
    "            For consistency this function should not be overrided,\n",
    "            all the code goes in `updateOutput`.\n",
    "        \"\"\"\n",
    "        return self.updateOutput(input, target)\n",
    "\n",
    "    def backward(self, input, target):\n",
    "        \"\"\"\n",
    "            Given an input and a target, compute the gradients of the loss function\n",
    "            associated to the criterion and return the result.\n",
    "\n",
    "            For consistency this function should not be overrided,\n",
    "            all the code goes in `updateGradInput`.\n",
    "        \"\"\"\n",
    "        return self.updateGradInput(input, target)\n",
    "\n",
    "    def updateOutput(self, input, target):\n",
    "        \"\"\"\n",
    "        Function to override.\n",
    "        \"\"\"\n",
    "        return self.output\n",
    "\n",
    "    def updateGradInput(self, input, target):\n",
    "        \"\"\"\n",
    "        Function to override.\n",
    "        \"\"\"\n",
    "        return self.gradInput\n",
    "\n",
    "    def __repr__(self):\n",
    "        \"\"\"\n",
    "        Pretty printing. Should be overrided in every module if you want\n",
    "        to have readable description.\n",
    "        \"\"\"\n",
    "        return \"Criterion\""
   ]
  },
  {
   "cell_type": "markdown",
   "metadata": {
    "id": "WuU26xkpj6ec"
   },
   "source": [
    "The **MSECriterion**, which is basic L2 norm usually used for regression, is implemented here for you.\n",
    "- input:   **`batch_size x n_feats`**\n",
    "- target: **`batch_size x n_feats`**\n",
    "- output: **scalar**"
   ]
  },
  {
   "cell_type": "code",
   "execution_count": 123,
   "metadata": {
    "id": "-i3VNuHhj6ec"
   },
   "outputs": [],
   "source": [
    "class MSECriterion(Criterion):\n",
    "    def __init__(self):\n",
    "        super(MSECriterion, self).__init__()\n",
    "\n",
    "    def updateOutput(self, input, target):\n",
    "        self.output = np.sum(np.power(input - target,2)) / input.shape[0]\n",
    "        return self.output\n",
    "\n",
    "    def updateGradInput(self, input, target):\n",
    "        self.gradInput  = (input - target) * 2 / input.shape[0]\n",
    "        return self.gradInput\n",
    "\n",
    "    def __repr__(self):\n",
    "        return \"MSECriterion\""
   ]
  },
  {
   "cell_type": "markdown",
   "metadata": {
    "id": "x8LKLWNVj6ec"
   },
   "source": [
    "## 14. (0.2) Negative LogLikelihood criterion (numerically unstable)\n",
    "You task is to implement the **ClassNLLCriterion**. It should implement [multiclass log loss](http://scikit-learn.org/stable/modules/model_evaluation.html#log-loss). Nevertheless there is a sum over `y` (target) in that formula,\n",
    "remember that targets are one-hot encoded. This fact simplifies the computations a lot. Note, that criterions are the only places, where you divide by batch size. Also there is a small hack with adding small number to probabilities to avoid computing log(0).\n",
    "- input:   **`batch_size x n_feats`** - probabilities\n",
    "- target: **`batch_size x n_feats`** - one-hot representation of ground truth\n",
    "- output: **scalar**\n",
    "\n"
   ]
  },
  {
   "cell_type": "code",
   "execution_count": 125,
   "metadata": {},
   "outputs": [],
   "source": [
    "class ClassNLLCriterionUnstable(Criterion):\n",
    "    EPS = 1e-15\n",
    "    def __init__(self):\n",
    "        a = super(ClassNLLCriterionUnstable, self)\n",
    "        super(ClassNLLCriterionUnstable, self).__init__()\n",
    "\n",
    "    def updateOutput(self, input, target):\n",
    "\n",
    "        # Use this trick to avoid numerical errors\n",
    "        input_clamp = np.clip(input, self.EPS, 1 - self.EPS)\n",
    "\n",
    "        # Your code goes here. ################################################\n",
    "        log_probs = -np.log(input_clamp)\n",
    "        batch_losses = np.sum(log_probs * target, axis=1)\n",
    "        total_loss = np.sum(batch_losses)\n",
    "        batch_size = input.shape[0]\n",
    "        self.output = total_loss / batch_size\n",
    "        return self.output\n",
    "\n",
    "    def updateGradInput(self, input, target):\n",
    "\n",
    "        # Use this trick to avoid numerical errors\n",
    "        input_clamp = np.clip(input, self.EPS, 1 - self.EPS)\n",
    "\n",
    "        # Your code goes here. ################################################\n",
    "        input_clamp = np.clip(input, self.EPS, 1.0 - self.EPS)\n",
    "        batch_size = input.shape[0]\n",
    "        grad = -target / input_clamp\n",
    "        self.gradInput = grad / batch_size\n",
    "        return self.gradInput\n",
    "\n",
    "    def __repr__(self):\n",
    "        return \"ClassNLLCriterionUnstable\""
   ]
  },
  {
   "cell_type": "markdown",
   "metadata": {
    "id": "uHr_JbU5j6ec"
   },
   "source": [
    "## 15. (0.3) Negative LogLikelihood criterion (numerically stable)\n",
    "- input:   **`batch_size x n_feats`** - log probabilities\n",
    "- target: **`batch_size x n_feats`** - one-hot representation of ground truth\n",
    "- output: **scalar**\n",
    "\n",
    "Task is similar to the previous one, but now the criterion input is the output of log-softmax layer. This decomposition allows us to avoid problems with computation of forward and backward of log()."
   ]
  },
  {
   "cell_type": "code",
   "execution_count": 127,
   "metadata": {
    "id": "v7N8bVP9j6ec"
   },
   "outputs": [],
   "source": [
    "class ClassNLLCriterion(Criterion):\n",
    "    def __init__(self):\n",
    "        a = super(ClassNLLCriterion, self)\n",
    "        super(ClassNLLCriterion, self).__init__()\n",
    "\n",
    "    def updateOutput(self, input, target):\n",
    "        # Your code goes here. ################################################\n",
    "        batch_scores = np.sum(input * target, axis=1)\n",
    "        batch_size = input.shape[0]\n",
    "        total_loss = -np.sum(batch_scores)\n",
    "        self.output = total_loss / batch_size\n",
    "        return self.output\n",
    "\n",
    "    def updateGradInput(self, input, target):\n",
    "        # Your code goes here. ################################################\n",
    "        batch_size = input.shape[0]\n",
    "        self.gradInput = -target / batch_size\n",
    "        return self.gradInput\n",
    "\n",
    "    def __repr__(self):\n",
    "        return \"ClassNLLCriterion\""
   ]
  },
  {
   "cell_type": "code",
   "execution_count": null,
   "metadata": {
    "id": "E-ZnhKxaj6ed"
   },
   "outputs": [],
   "source": []
  },
  {
   "cell_type": "markdown",
   "metadata": {
    "id": "TC2Bf1PP2Ios"
   },
   "source": [
    "1-я часть задания: реализация слоев, лосей и функций активации - 5 баллов. \\\\\n",
    "2-я часть задания: реализация моделей на своих классах. Что должно быть:\n",
    "  1. Выберите оптимизатор и реализуйте его, чтоб он работал с вами классами. - 1 балл.\n",
    "  2. Модель для задачи мультирегрессии на выбраных вами данных. Использовать FCNN, dropout, batchnorm, MSE. Пробуйте различные фукнции активации. Для первой модели попробуйте большую, среднюю и маленькую модель. - 1 балл.\n",
    "  3. Модель для задачи мультиклассификации на MNIST. Использовать свёртки, макспулы, флэттэны, софтмаксы - 1 балла.\n",
    "  4. Автоэнкодер для выбранных вами данных. Должен быть на свёртках и полносвязных слоях, дропаутах, батчнормах и тд. - 2 балла. \\\\\n",
    "\n",
    "Дополнительно в оценке каждой модели будет учитываться:\n",
    "1. Наличие правильно выбранной метрики и лосс функции.\n",
    "2. Отрисовка графиков лосей и метрик на трейне-валидации. Проверка качества модели на тесте.\n",
    "3. Наличие шедулера для lr.\n",
    "4. Наличие вормапа.\n",
    "5. Наличие механизма ранней остановки и сохранение лучшей модели.\n",
    "6. Свитч лося (метрики) и оптимайзера."
   ]
  },
  {
   "cell_type": "code",
   "execution_count": 129,
   "metadata": {},
   "outputs": [],
   "source": [
    "from sklearn.datasets import make_regression\n",
    "from sklearn.preprocessing import StandardScaler\n",
    "from sklearn.model_selection import train_test_split\n",
    "import matplotlib.pyplot as plt\n",
    "import pandas as pd\n",
    "import math\n",
    "from sklearn.metrics import accuracy_score, r2_score"
   ]
  },
  {
   "cell_type": "markdown",
   "metadata": {},
   "source": [
    "Немного переопределю связочный слой"
   ]
  },
  {
   "cell_type": "code",
   "execution_count": 131,
   "metadata": {},
   "outputs": [],
   "source": [
    "class Sequential_upd(Module):\n",
    "\n",
    "    def __init__(self):\n",
    "        super(Sequential_upd, self).__init__()\n",
    "        self.modules = []\n",
    "\n",
    "    def add(self, module):\n",
    "        self.modules.append(module)\n",
    "\n",
    "    def updateOutput(self, input):\n",
    "        # Your code goes here. ################################################\n",
    "        current_output = input\n",
    "        if not self.modules:\n",
    "            self.output = current_output\n",
    "            return self.output\n",
    "        for module in self.modules:\n",
    "            current_output = module.forward(current_output)\n",
    "        self.output = current_output\n",
    "        return self.output\n",
    "\n",
    "    def backward(self, input, gradOutput):\n",
    "        # Your code goes here. ################################################\n",
    "        current_grad = gradOutput\n",
    "        if not self.modules:\n",
    "            self.gradInput = current_grad\n",
    "            return self.gradInput\n",
    "        for i in range(len(self.modules) - 1, -1, -1):\n",
    "            module = self.modules[i]\n",
    "            input_for_backward = input if i == 0 else self.modules[i - 1].output\n",
    "            current_grad = module.backward(input_for_backward, current_grad)\n",
    "        self.gradInput = current_grad\n",
    "        return self.gradInput\n",
    "\n",
    "    def zeroGradParameters(self):\n",
    "        for module in self.modules:\n",
    "            module.zeroGradParameters()\n",
    "\n",
    "    def getParameters(self):\n",
    "        params = []\n",
    "        for module in self.modules:\n",
    "            module_params = module.getParameters()\n",
    "            if module_params:\n",
    "                params.extend(module_params)\n",
    "        return params\n",
    "\n",
    "    def getGradParameters(self):\n",
    "        grad_params = []\n",
    "        for module in self.modules:\n",
    "            module_grad_params = module.getGradParameters()\n",
    "            if module_grad_params:  # Проверяем, что список не пустой\n",
    "                grad_params.extend(module_grad_params)\n",
    "        return grad_params\n",
    "\n",
    "    def train(self):\n",
    "        self.training = True\n",
    "        for module in self.modules:\n",
    "            module.train()\n",
    "\n",
    "    def evaluate(self):\n",
    "        self.training = False\n",
    "        for module in self.modules:\n",
    "            module.evaluate()\n",
    "\n",
    "    def __repr__(self):\n",
    "        string = \"Sequential_upd (\\n\"\n",
    "        for i, module in enumerate(self.modules):\n",
    "            module_str = str(module)\n",
    "            indented_module_str = \"  \" + module_str.replace(\"\\n\", \"\\n  \")\n",
    "            if indented_module_str.endswith(\"\\n  \"):\n",
    "                indented_module_str = indented_module_str[:-2]\n",
    "            string += f\"  ({i}): {indented_module_str}\\n\"\n",
    "        string += \")\"\n",
    "        return string\n",
    "\n",
    "    def __getitem__(self, x):\n",
    "        return self.modules.__getitem__(x)"
   ]
  },
  {
   "cell_type": "markdown",
   "metadata": {},
   "source": [
    "### 1. Выберите оптимизатор и реализуйте его, чтоб он работал с вами классами."
   ]
  },
  {
   "cell_type": "code",
   "execution_count": 133,
   "metadata": {},
   "outputs": [],
   "source": [
    "class SGD:\n",
    "    def __init__(self, model_params, lr=1e-3, wd=0):\n",
    "        self.model_params = model_params\n",
    "        self.lr = lr\n",
    "        self.wd = wd  # L2 регуляризация\n",
    "\n",
    "    def step(self, gradients):\n",
    "        for param, grad in zip(self.model_params, gradients):\n",
    "            if param is None or grad is None:\n",
    "                continue\n",
    "            if (self.wd > 0 and param.ndim > 1):\n",
    "                grad = grad + self.wd * param\n",
    "            update = self.lr * grad\n",
    "            if param.dtype != grad.dtype:\n",
    "                update = update.astype(param.dtype)\n",
    "            param -= update\n",
    "\n",
    "    def zero_grad(self, model):\n",
    "        model.zeroGradParameters()"
   ]
  },
  {
   "cell_type": "markdown",
   "metadata": {},
   "source": [
    "#### Шедулер"
   ]
  },
  {
   "cell_type": "code",
   "execution_count": 135,
   "metadata": {},
   "outputs": [],
   "source": [
    "class StepLR:\n",
    "    def __init__(self, optim, step_size, gamma=0.1):\n",
    "        self.optim = optim\n",
    "        self.step_size = step_size\n",
    "        self.gamma = gamma\n",
    "        self.epoch = 0\n",
    "    def step(self):\n",
    "        self.epoch += 1\n",
    "        if self.epoch % self.step_size == 0:\n",
    "            self.optim.lr = self.optim.lr * self.gamma"
   ]
  },
  {
   "cell_type": "markdown",
   "metadata": {},
   "source": [
    "#### Напишем некоторые вспомогательные функции"
   ]
  },
  {
   "cell_type": "code",
   "execution_count": 137,
   "metadata": {},
   "outputs": [],
   "source": [
    "def accuracy(y_true, y_pred): \n",
    "    return accuracy_score(y_true, y_pred)\n",
    "\n",
    "def r2(y_pred, y_true):\n",
    "    return r2_score(y_true, y_pred)\n",
    "\n",
    "def batcing(X, y, batch_size):\n",
    "    n_samples = X.shape[0]\n",
    "    indices = np.arange(n_samples)\n",
    "    np.random.shuffle(indices)\n",
    "    for start_idx in range(0, n_samples, batch_size):\n",
    "        end_idx = min(start_idx + batch_size, n_samples)\n",
    "        batch_indices = indices[start_idx:end_idx]\n",
    "        yield X[batch_indices], y[batch_indices]"
   ]
  },
  {
   "cell_type": "markdown",
   "metadata": {},
   "source": [
    "#### Функция для обучения и валидации модели"
   ]
  },
  {
   "cell_type": "code",
   "execution_count": 139,
   "metadata": {},
   "outputs": [],
   "source": [
    "def train(model, criterion, optimizer, scheduler=None, X_train=None, y_train=None,\n",
    "          X_val=None, y_val=None, epochs=10, batch_size=32, metric_func=None, mode=\"classification\"):\n",
    "\n",
    "    train_loss_history, val_loss_history, train_metric_history, val_metric_history = [], [], [], []\n",
    "\n",
    "\n",
    "    for epoch in range(epochs):\n",
    "        model.train()\n",
    "        train_loss = 0.0\n",
    "        train_metric = 0.0\n",
    "        train_samples = 0\n",
    "\n",
    "        for X_batch, y_batch in batcing(X_train, y_train, batch_size):\n",
    "            optimizer.zero_grad(model)\n",
    "            y_pred = model.forward(X_batch)\n",
    "            loss = criterion.forward(y_pred, y_batch)\n",
    "            grad = criterion.backward(y_pred, y_batch)\n",
    "            model.backward(X_batch, grad)\n",
    "            optimizer.step(model.getGradParameters())\n",
    "\n",
    "            train_loss += loss * X_batch.shape[0]\n",
    "            \n",
    "            if metric_func:\n",
    "                y_pred_proc = np.argmax(y_pred, axis=-1) if mode == \"classification\" else y_pred\n",
    "                metric = metric_func(y_batch, y_pred_proc)\n",
    "                train_metric += metric * X_batch.shape[0]\n",
    "            \n",
    "            train_samples += X_batch.shape[0]\n",
    "\n",
    "        model.evaluate()\n",
    "        val_loss = 0.0\n",
    "        val_metric = 0.0\n",
    "        val_samples = 0\n",
    "\n",
    "        for X_batch, y_batch in batcing(X_val, y_val, batch_size):\n",
    "            y_pred = model.forward(X_batch)\n",
    "            loss = criterion.forward(y_pred, y_batch)\n",
    "            val_loss += loss * X_batch.shape[0]\n",
    "            \n",
    "            if metric_func:\n",
    "                y_pred_proc = np.argmax(y_pred, axis=-1) if mode == \"classification\" else y_pred\n",
    "                metric = metric_func(y_batch, y_pred_proc)\n",
    "                val_metric += metric * X_batch.shape[0]\n",
    "            \n",
    "            val_samples += X_batch.shape[0]\n",
    "\n",
    "        avg_train_loss = train_loss / train_samples\n",
    "        avg_val_loss = val_loss / val_samples\n",
    "        train_loss_history.append(avg_train_loss)\n",
    "        val_loss_history.append(avg_val_loss)\n",
    "\n",
    "        if metric_func:\n",
    "            avg_train_metric = train_metric / train_samples\n",
    "            avg_val_metric = val_metric / val_samples\n",
    "            train_metric_history.append(avg_train_metric)\n",
    "            val_metric_history.append(avg_val_metric)\n",
    "\n",
    "        lr = optimizer.lr\n",
    "        if scheduler:\n",
    "            scheduler.step()\n",
    "            new_lr = optimizer.lr\n",
    "            lr_changed = new_lr != lr\n",
    "        else:\n",
    "            lr_changed = False\n",
    "\n",
    "        print(f\"Epoch {epoch+1}/{epochs}: \"\n",
    "              f\"Train Loss: {avg_train_loss:.4f} | \"\n",
    "              f\"Val Loss: {avg_val_loss:.4f}\", end=\"\")\n",
    "        \n",
    "        if metric_func:\n",
    "            print(f\"| Train {str(metric)}: {avg_train_metric:.4f}| \"\n",
    "                  f\"Val {str(metric)}: {avg_val_metric:.4f}\", end=\"\")\n",
    "            print()\n",
    "\n",
    "\n",
    "    return (train_loss_history, val_loss_history, train_metric_history, val_metric_history)"
   ]
  },
  {
   "cell_type": "markdown",
   "metadata": {},
   "source": [
    "### 2. Модель мультирегресии\n",
    "Модель для задачи мультирегрессии на выбраных вами данных. Использовать FCNN, dropout, batchnorm, MSE. Пробуйте различные фукнции активации. Для первой модели попробуйте большую, среднюю и маленькую модель."
   ]
  },
  {
   "cell_type": "markdown",
   "metadata": {},
   "source": [
    "#### 2.1 Генерируем данные для мультирегресии"
   ]
  },
  {
   "cell_type": "code",
   "execution_count": 141,
   "metadata": {},
   "outputs": [],
   "source": [
    "W_true = np.random.randn(3, 5).astype(np.float32) * 2\n",
    "b_true = np.random.randn(3).astype(np.float32) * 5\n",
    "X = np.random.rand(10000, 5).astype(np.float32) * 10\n",
    "\n",
    "y = (X @ W_true.T + b_true + np.random.randn(10000, 3).astype(np.float32) * 0.5).astype(np.float32)"
   ]
  },
  {
   "cell_type": "markdown",
   "metadata": {},
   "source": [
    "#### 2.2 Подготовка данных"
   ]
  },
  {
   "cell_type": "code",
   "execution_count": 143,
   "metadata": {},
   "outputs": [],
   "source": [
    "scaler = StandardScaler()\n",
    "X_scaled = scaler.fit_transform(X)\n",
    "\n",
    "X_train, X_test, y_train, y_test = train_test_split(X_scaled, y, test_size=0.25, random_state=42)\n",
    "X_train, X_val, y_train, y_val = train_test_split(X_train, y_train, test_size=0.2, random_state=42)"
   ]
  },
  {
   "cell_type": "markdown",
   "metadata": {},
   "source": [
    "#### 2.3 Модель для регрессии"
   ]
  },
  {
   "cell_type": "code",
   "execution_count": 145,
   "metadata": {},
   "outputs": [],
   "source": [
    "def create_regression_model(n_features, n_targets, hidden_size, n_layers, activation=None, dropout_mode=0.0):\n",
    "    model = Sequential_upd()\n",
    "    last_size = n_features\n",
    "    for i in range(n_layers):\n",
    "        model.add(Linear(last_size, hidden_size))\n",
    "        model.add(BatchNormalization())\n",
    "        model.add(ChannelwiseScaling(hidden_size))\n",
    "        model.add(activation())\n",
    "        if dropout_mode > 0:\n",
    "            model.add(Dropout(dropout_mode))\n",
    "        last_size = hidden_size\n",
    "    model.add(Linear(last_size, n_targets))\n",
    "    return model"
   ]
  },
  {
   "cell_type": "markdown",
   "metadata": {},
   "source": [
    "#### 2.4 Создаём модели (маленькую, среднюю и большую) "
   ]
  },
  {
   "cell_type": "code",
   "execution_count": 147,
   "metadata": {},
   "outputs": [],
   "source": [
    "model_small = create_regression_model(n_features=5, n_targets=3, hidden_size=32, n_layers=1, activation=ReLU, dropout_mode=0.1)\n",
    "model_medium = create_regression_model(n_features=5, n_targets=3, hidden_size=64, n_layers=2, activation=ELU, dropout_mode=0.2)\n",
    "model_large = create_regression_model(n_features=5, n_targets=3, hidden_size=128, n_layers=3, activation=Gelu, dropout_mode=0.3)"
   ]
  },
  {
   "cell_type": "markdown",
   "metadata": {},
   "source": [
    "#### 2.5 Обучение модели (только маленькой, остальные - аналогично)"
   ]
  },
  {
   "cell_type": "code",
   "execution_count": 149,
   "metadata": {},
   "outputs": [
    {
     "name": "stdout",
     "output_type": "stream",
     "text": [
      "Epoch 1/50: Train Loss: 494.6732 | Val Loss: 110.4759| Train 0.46577150407143436: -40859.9137| Val 0.46577150407143436: 0.3488\n",
      "Epoch 2/50: Train Loss: 86.0776 | Val Loss: 22.5822| Train 0.9160977003841749: 0.7254| Val 0.9160977003841749: 0.9139\n",
      "Epoch 3/50: Train Loss: 71.7146 | Val Loss: 22.8094| Train 0.892968766596205: 0.8007| Val 0.892968766596205: 0.9066\n",
      "Epoch 4/50: Train Loss: 66.0826 | Val Loss: 23.1388| Train 0.9032374335988371: 0.8165| Val 0.9032374335988371: 0.9054\n",
      "Epoch 5/50: Train Loss: 62.0966 | Val Loss: 23.4065| Train 0.9410051750454104: 0.8309| Val 0.9410051750454104: 0.9412\n",
      "Epoch 6/50: Train Loss: 61.1537 | Val Loss: 55.9502| Train 0.8399379233728163: 0.8326| Val 0.8399379233728163: 0.8867\n",
      "Epoch 7/50: Train Loss: 55.6463 | Val Loss: 13.5647| Train 0.9695718098701717: 0.8487| Val 0.9695718098701717: 0.9654\n",
      "Epoch 8/50: Train Loss: 53.5592 | Val Loss: 49.7808| Train 0.8857031157389454: 0.8551| Val 0.8857031157389454: 0.8798\n",
      "Epoch 9/50: Train Loss: 51.7355 | Val Loss: 9.1821| Train 0.9727777541925097: 0.8643| Val 0.9727777541925097: 0.9715\n",
      "Epoch 10/50: Train Loss: 54.3152 | Val Loss: 59.3765| Train 0.8955161359622673: 0.8575| Val 0.8955161359622673: 0.8818\n",
      "Epoch 11/50: Train Loss: 51.2554 | Val Loss: 11.1312| Train 0.9696837717087526: 0.8658| Val 0.9696837717087526: 0.9726\n",
      "Epoch 12/50: Train Loss: 49.6855 | Val Loss: 12.3904| Train 0.9525772474765272: 0.8688| Val 0.9525772474765272: 0.9514\n",
      "Epoch 13/50: Train Loss: 48.3011 | Val Loss: 28.9210| Train 0.8759041578077081: 0.8725| Val 0.8759041578077081: 0.8958\n",
      "Epoch 14/50: Train Loss: 47.9780 | Val Loss: 18.0720| Train 0.9308552433626605: 0.8728| Val 0.9308552433626605: 0.9309\n",
      "Epoch 15/50: Train Loss: 51.7687 | Val Loss: 14.9095| Train 0.9641608385530812: 0.8651| Val 0.9641608385530812: 0.9605\n",
      "Epoch 16/50: Train Loss: 48.6445 | Val Loss: 10.2452| Train 0.9717137617657482: 0.8712| Val 0.9717137617657482: 0.9678\n",
      "Epoch 17/50: Train Loss: 46.6601 | Val Loss: 31.2651| Train 0.9464246972932729: 0.8756| Val 0.9464246972932729: 0.9375\n",
      "Epoch 18/50: Train Loss: 48.8805 | Val Loss: 47.0142| Train 0.9177649167863452: 0.8730| Val 0.9177649167863452: 0.9333\n",
      "Epoch 19/50: Train Loss: 47.9161 | Val Loss: 39.5400| Train 0.944344069191502: 0.8747| Val 0.944344069191502: 0.9302\n",
      "Epoch 20/50: Train Loss: 47.8470 | Val Loss: 19.4527| Train 0.9559587035964036: 0.8753| Val 0.9559587035964036: 0.9534\n",
      "Epoch 21/50: Train Loss: 48.6568 | Val Loss: 9.5115| Train 0.9789196406363915: 0.8731| Val 0.9789196406363915: 0.9721\n",
      "Epoch 22/50: Train Loss: 46.3543 | Val Loss: 11.0309| Train 0.9451450967688243: 0.8778| Val 0.9451450967688243: 0.9504\n",
      "Epoch 23/50: Train Loss: 46.3468 | Val Loss: 30.0177| Train 0.9360357894492731: 0.8795| Val 0.9360357894492731: 0.9229\n",
      "Epoch 24/50: Train Loss: 45.7119 | Val Loss: 12.4379| Train 0.9793149702885872: 0.8793| Val 0.9793149702885872: 0.9657\n",
      "Epoch 25/50: Train Loss: 46.4867 | Val Loss: 45.6821| Train 0.8208943434986707: 0.8769| Val 0.8208943434986707: 0.8483\n",
      "Epoch 26/50: Train Loss: 48.4327 | Val Loss: 36.5931| Train 0.918234372679092: 0.8738| Val 0.918234372679092: 0.9058\n",
      "Epoch 27/50: Train Loss: 46.2236 | Val Loss: 121.4024| Train 0.47045525496732427: 0.8793| Val 0.47045525496732427: 0.5951\n",
      "Epoch 28/50: Train Loss: 43.4563 | Val Loss: 6.8554| Train 0.9774196500950044: 0.8856| Val 0.9774196500950044: 0.9771\n",
      "Epoch 29/50: Train Loss: 44.2103 | Val Loss: 33.7807| Train 0.9097388570098773: 0.8833| Val 0.9097388570098773: 0.8867\n",
      "Epoch 30/50: Train Loss: 45.4656 | Val Loss: 20.2031| Train 0.9189088372994503: 0.8798| Val 0.9189088372994503: 0.9363\n",
      "Epoch 31/50: Train Loss: 45.7131 | Val Loss: 10.1612| Train 0.9664498794526647: 0.8805| Val 0.9664498794526647: 0.9706\n",
      "Epoch 32/50: Train Loss: 43.9722 | Val Loss: 7.4661| Train 0.9852652025225194: 0.8862| Val 0.9852652025225194: 0.9780\n",
      "Epoch 33/50: Train Loss: 44.0326 | Val Loss: 16.0230| Train 0.9424900082506252: 0.8834| Val 0.9424900082506252: 0.9452\n",
      "Epoch 34/50: Train Loss: 44.1149 | Val Loss: 68.2434| Train 0.8118616539942322: 0.8873| Val 0.8118616539942322: 0.8189\n",
      "Epoch 35/50: Train Loss: 46.9851 | Val Loss: 17.2953| Train 0.9425510132613161: 0.8753| Val 0.9425510132613161: 0.9389\n",
      "Epoch 36/50: Train Loss: 46.7391 | Val Loss: 63.1622| Train 0.9053389269363956: 0.8800| Val 0.9053389269363956: 0.9157\n",
      "Epoch 37/50: Train Loss: 44.4174 | Val Loss: 102.8969| Train 0.8837557017687646: 0.8839| Val 0.8837557017687646: 0.8241\n",
      "Epoch 38/50: Train Loss: 42.9414 | Val Loss: 17.0524| Train 0.9447013207786162: 0.8880| Val 0.9447013207786162: 0.9507\n",
      "Epoch 39/50: Train Loss: 45.8253 | Val Loss: 61.1744| Train 0.9010690743352843: 0.8823| Val 0.9010690743352843: 0.8991\n",
      "Epoch 40/50: Train Loss: 45.1688 | Val Loss: 11.0838| Train 0.9804942280147424: 0.8825| Val 0.9804942280147424: 0.9714\n",
      "Epoch 41/50: Train Loss: 43.7414 | Val Loss: 19.1791| Train 0.9638152319158682: 0.8877| Val 0.9638152319158682: 0.9601\n",
      "Epoch 42/50: Train Loss: 45.5071 | Val Loss: 40.6421| Train 0.9008559873244079: 0.8820| Val 0.9008559873244079: 0.8990\n",
      "Epoch 43/50: Train Loss: 42.8234 | Val Loss: 60.5289| Train 0.8107541742348175: 0.8892| Val 0.8107541742348175: 0.8562\n",
      "Epoch 44/50: Train Loss: 44.9906 | Val Loss: 193.3952| Train 0.5381150929538666: 0.8836| Val 0.5381150929538666: 0.6915\n",
      "Epoch 45/50: Train Loss: 46.5759 | Val Loss: 72.6944| Train 0.9213438883203485: 0.8818| Val 0.9213438883203485: 0.9125\n",
      "Epoch 46/50: Train Loss: 45.9846 | Val Loss: 32.6253| Train 0.8782657617371844: 0.8809| Val 0.8782657617371844: 0.9025\n",
      "Epoch 47/50: Train Loss: 45.8547 | Val Loss: 42.4281| Train 0.9046962274512808: 0.8811| Val 0.9046962274512808: 0.9003\n",
      "Epoch 48/50: Train Loss: 46.5196 | Val Loss: 17.6304| Train 0.9408529078611535: 0.8790| Val 0.9408529078611535: 0.9486\n",
      "Epoch 49/50: Train Loss: 43.6770 | Val Loss: 7.3837| Train 0.98453383657608: 0.8862| Val 0.98453383657608: 0.9803\n",
      "Epoch 50/50: Train Loss: 45.0211 | Val Loss: 141.7215| Train 0.8218593929118909: 0.8809| Val 0.8218593929118909: 0.7922\n"
     ]
    }
   ],
   "source": [
    "criterion = MSECriterion()\n",
    "optimizer = SGD(model_small.getParameters(), 1e-3)\n",
    "scheduler = StepLR(optimizer, step_size=10, gamma=0.5)\n",
    "\n",
    "train_loss, val_loss, train_metric, val_metric = train(model_small, criterion, optimizer, scheduler, X_train, y_train,\n",
    "                                                       X_val, y_val, epochs=50, batch_size=32, metric_func=r2, mode=\"reg\")"
   ]
  },
  {
   "cell_type": "markdown",
   "metadata": {},
   "source": [
    "#### 2.6 Отрисовка трейнов"
   ]
  },
  {
   "cell_type": "code",
   "execution_count": 150,
   "metadata": {},
   "outputs": [
    {
     "data": {
      "image/png": "[encoded data removed]",
      "text/plain": [
       "<Figure size 1200x500 with 2 Axes>"
      ]
     },
     "metadata": {},
     "output_type": "display_data"
    }
   ],
   "source": [
    "epochs = range(1, len(train_metric) + 1)\n",
    "plt.figure(figsize=(12, 5))\n",
    "plt.subplot(1, 2, 1)\n",
    "plt.plot(epochs, train_metric, label=\"Training\")\n",
    "plt.title(\"Training R2\")\n",
    "plt.xlabel(\"Epochs\")\n",
    "plt.ylabel(\"Metric\")\n",
    "plt.subplot(1, 2, 2)\n",
    "plt.plot(epochs, train_loss, label=\"Training\")\n",
    "plt.title(\"Training Loss\")\n",
    "plt.xlabel(\"Epochs\")\n",
    "plt.ylabel(\"Loss\");"
   ]
  },
  {
   "cell_type": "markdown",
   "metadata": {},
   "source": [
    "### 3. Модель мультиклассификации\n",
    "Модель для задачи мультиклассификации на MNIST. Использовать свёртки, макспулы, флэттэны, софтмаксы"
   ]
  },
  {
   "cell_type": "markdown",
   "metadata": {},
   "source": [
    "#### 3.1 Вытаскиваем данные MINT"
   ]
  },
  {
   "cell_type": "code",
   "execution_count": 151,
   "metadata": {},
   "outputs": [],
   "source": [
    "from torchvision.datasets import MNIST\n",
    "from torchvision.transforms import ToTensor\n",
    "\n",
    "train_val = MNIST(root=\"./data\", train=True, download=True, transform=ToTensor())\n",
    "test = MNIST(root=\"./data\", train=False, download=True, transform=ToTensor())"
   ]
  },
  {
   "cell_type": "markdown",
   "metadata": {},
   "source": [
    "#### 3.2 Подготовка данных"
   ]
  },
  {
   "cell_type": "code",
   "execution_count": 152,
   "metadata": {},
   "outputs": [],
   "source": [
    "X = train_val.data.numpy().astype(np.float32) / 255.0\n",
    "y = train_val.targets.numpy()\n",
    "X_test = test.data.numpy().astype(np.float32) / 255.0\n",
    "y_test = test.targets.numpy()\n",
    "X = X[:, None, :, :]\n",
    "X_test = X_test[:, None, :, :]\n",
    "\n",
    "X_train, X_val, y_train, y_val = train_test_split(X, y, test_size=0.15, random_state=42, stratify=y)"
   ]
  },
  {
   "cell_type": "markdown",
   "metadata": {},
   "source": [
    "#### 3.3 Модель для классификации"
   ]
  },
  {
   "cell_type": "code",
   "execution_count": 153,
   "metadata": {},
   "outputs": [],
   "source": [
    "def create_classification_model():\n",
    "    model = Sequential_upd()\n",
    "    model.add(Conv2d(in_channels=1, out_channels=8, kernel_size=5, padding=2))\n",
    "    model.add(ReLU())\n",
    "    model.add(MaxPool2d(kernel_size=2, stride=2, padding=1))\n",
    "    model.add(Conv2d(in_channels=8, out_channels=16, kernel_size=3, padding=1))\n",
    "    model.add(ReLU())\n",
    "    model.add(MaxPool2d(kernel_size=2, stride=2, padding=1))\n",
    "    model.add(Flatten())\n",
    "    model.add(Linear(n_in=16 * 7 * 7, n_out=128))\n",
    "    model.add(ReLU())\n",
    "    model.add(Dropout(0.25))\n",
    "    model.add(Linear(n_in=128, n_out=10))\n",
    "    model.add(SoftMax())\n",
    "    return model"
   ]
  },
  {
   "cell_type": "markdown",
   "metadata": {},
   "source": [
    "#### 3.4 Создём модель"
   ]
  },
  {
   "cell_type": "code",
   "execution_count": 154,
   "metadata": {},
   "outputs": [],
   "source": [
    "model = create_classification_model()"
   ]
  },
  {
   "cell_type": "markdown",
   "metadata": {},
   "source": [
    "#### 3.5 Обучение модели"
   ]
  },
  {
   "cell_type": "code",
   "execution_count": 79,
   "metadata": {},
   "outputs": [],
   "source": [
    "# criterion = MSECriterion()\n",
    "# optimizer = SGD(model.getParameters(), lr=1e-3)\n",
    "# train_loss, val_loss, train_metric, val_metric = train(model, criterion, optimizer, X_train, y_train, X_val, y_val,\n",
    "#                                                        epochs=1, batch_size=128, metric_func=accuracy, mode=\"classification\")"
   ]
  },
  {
   "cell_type": "markdown",
   "metadata": {},
   "source": [
    "i'm done"
   ]
  }
 ],
 "metadata": {
  "colab": {
   "provenance": []
  },
  "kernelspec": {
   "display_name": "Python 3 (ipykernel)",
   "language": "python",
   "name": "python3"
  },
  "language_info": {
   "codemirror_mode": {
    "name": "ipython",
    "version": 3
   },
   "file_extension": ".py",
   "mimetype": "text/x-python",
   "name": "python",
   "nbconvert_exporter": "python",
   "pygments_lexer": "ipython3",
   "version": "3.12.4"
  }
 },
 "nbformat": 4,
 "nbformat_minor": 4
}
